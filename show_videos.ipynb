{
 "cells": [
  {
   "cell_type": "code",
   "execution_count": 1,
   "id": "c9b5ce98",
   "metadata": {},
   "outputs": [],
   "source": [
    "# import thư viện\n",
    "import os\n",
    "import cv2\n",
    "import numpy as np\n",
    "import matplotlib.pyplot as plt"
   ]
  },
  {
   "cell_type": "code",
   "execution_count": 2,
   "id": "0e0d4271",
   "metadata": {},
   "outputs": [
    {
     "name": "stdout",
     "output_type": "stream",
     "text": [
      "C:\\Users\\TINH\\Desktop\\DO_AN_YL\\yolov7\\runs\\detect\\exp2\n"
     ]
    }
   ],
   "source": [
    "cd yolov7/runs/detect/exp2/"
   ]
  },
  {
   "cell_type": "code",
   "execution_count": 3,
   "id": "e48a1392",
   "metadata": {},
   "outputs": [],
   "source": [
    "# Hiển thị các video đã nhận diện\n",
    "for i in os.listdir():\n",
    "    cap = cv2.VideoCapture(i)\n",
    "\n",
    "    # kiểm tra video, nếu lỗi ở bước này, hãy kiểm tra đường dẫn của tệp!!\n",
    "    if cap.isOpened()== False: \n",
    "        print(\"Error opening the video file. Please double check your file path for types. Or move the movie file to the same location as this notebook\")\n",
    "\n",
    "    while cap.isOpened():\n",
    "\n",
    "        # Đọc file video.\n",
    "        ret, frame = cap.read()\n",
    "\n",
    "        if ret == True:\n",
    "            cv2.imshow('frame',frame)\n",
    "\n",
    "            # Ấn phím q để thoát\n",
    "            if cv2.waitKey(25) & 0xFF == ord('q'):\n",
    "\n",
    "                break\n",
    "\n",
    "        # Tự động ngắt vòng lặp nếu hết video.\n",
    "        else:\n",
    "            break\n",
    "\n",
    "    cap.release()\n",
    "    cv2.destroyAllWindows()"
   ]
  },
  {
   "cell_type": "code",
   "execution_count": null,
   "id": "26746616",
   "metadata": {},
   "outputs": [],
   "source": []
  }
 ],
 "metadata": {
  "kernelspec": {
   "display_name": "Python 3 (ipykernel)",
   "language": "python",
   "name": "python3"
  },
  "language_info": {
   "codemirror_mode": {
    "name": "ipython",
    "version": 3
   },
   "file_extension": ".py",
   "mimetype": "text/x-python",
   "name": "python",
   "nbconvert_exporter": "python",
   "pygments_lexer": "ipython3",
   "version": "3.9.7"
  }
 },
 "nbformat": 4,
 "nbformat_minor": 5
}
